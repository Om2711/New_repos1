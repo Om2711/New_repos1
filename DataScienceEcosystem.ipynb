{
 "cells": [
  {
   "cell_type": "markdown",
   "id": "d5902423",
   "metadata": {},
   "source": [
    "#  Data Science Tools and Ecosystem"
   ]
  },
  {
   "cell_type": "markdown",
   "id": "caa0d475",
   "metadata": {},
   "source": [
    "## In this notebook, Data Science Tools and Ecosystem are summarized."
   ]
  },
  {
   "cell_type": "markdown",
   "id": "8200f4c5",
   "metadata": {},
   "source": [
    "## Some of the popular languages that Data Scientists use are:\n",
    "    "
   ]
  },
  {
   "cell_type": "markdown",
   "id": "31c2d0b5",
   "metadata": {},
   "source": [
    " 1. Python\n",
    " 2. R\n",
    " 3. Julia"
   ]
  },
  {
   "cell_type": "markdown",
   "id": "808178e6",
   "metadata": {},
   "source": [
    "## Some of the commonly used libraries used by Data Scientists include:\n",
    "    \n",
    "   1. Numpy\n",
    "   2. Pandas\n",
    "   3. Tensorflow"
   ]
  },
  {
   "cell_type": "markdown",
   "id": "2e0988c4",
   "metadata": {},
   "source": [
    "| Data Science Tools |\n",
    "| ------------------ |\n",
    "| Apache Spark       |\n",
    "|     Hadoop       |            \n",
    "| TensorFlow         |"
   ]
  },
  {
   "cell_type": "markdown",
   "id": "1bb1056c",
   "metadata": {},
   "source": [
    "### Below are a few examples of evaluating arithmetic expressions in Python\n",
    "\n",
    "  1. add = x + y\n",
    "  2. sub = x - y\n",
    "  3. prod = x * y\n",
    "  4. div = x / y\n",
    "  "
   ]
  },
  {
   "cell_type": "code",
   "execution_count": 8,
   "id": "9704e886",
   "metadata": {},
   "outputs": [
    {
     "name": "stdout",
     "output_type": "stream",
     "text": [
      "17\n"
     ]
    }
   ],
   "source": [
    "#This a simple arithmetic expression to mutiply then add integers\n",
    " \n",
    "d=(3*4)+5\n",
    "print(d)"
   ]
  },
  {
   "cell_type": "code",
   "execution_count": 14,
   "id": "65542c19",
   "metadata": {},
   "outputs": [
    {
     "name": "stdout",
     "output_type": "stream",
     "text": [
      "200 minutes is equal to 3.3333333333333335 Hours\n"
     ]
    }
   ],
   "source": [
    "# This will convert 200 minutes to hours by diving by 60\n",
    " \n",
    "d= (200/60) \n",
    "print(\"200 minutes is equal to\",d , \"Hours\")\n",
    "\n"
   ]
  },
  {
   "cell_type": "markdown",
   "id": "7c8356d6",
   "metadata": {},
   "source": [
    "**Objectives that this notebook covered :**\n",
    "    \n",
    "    - List of the popular languages that Data Scientists use\n",
    "    - List of the commonly used libraries used by Data Scientists\n",
    "    - Examples of evaluating arithmetic expressions in Python\n",
    "    - Conversion of 200 minutes to hours\n"
   ]
  },
  {
   "cell_type": "markdown",
   "id": "d8af3f4e",
   "metadata": {},
   "source": [
    "## Author\n",
    "   ---- **By Om S.**"
   ]
  },
  {
   "cell_type": "code",
   "execution_count": null,
   "id": "c4dc5e25",
   "metadata": {},
   "outputs": [],
   "source": []
  }
 ],
 "metadata": {
  "kernelspec": {
   "display_name": "Python 3 (ipykernel)",
   "language": "python",
   "name": "python3"
  },
  "language_info": {
   "codemirror_mode": {
    "name": "ipython",
    "version": 3
   },
   "file_extension": ".py",
   "mimetype": "text/x-python",
   "name": "python",
   "nbconvert_exporter": "python",
   "pygments_lexer": "ipython3",
   "version": "3.9.13"
  }
 },
 "nbformat": 4,
 "nbformat_minor": 5
}
